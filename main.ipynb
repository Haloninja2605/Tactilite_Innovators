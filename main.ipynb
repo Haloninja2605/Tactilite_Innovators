{
 "cells": [
  {
   "cell_type": "code",
   "execution_count": 130,
   "metadata": {},
   "outputs": [],
   "source": [
    "import os\n",
    "import numpy as np\n",
    "import matplotlib.pyplot as plt\n",
    "import tensorflow as tf\n",
    "import cv2"
   ]
  },
  {
   "cell_type": "code",
   "execution_count": 137,
   "metadata": {},
   "outputs": [],
   "source": [
    "def b_converter(L):\n",
    "    print(\"This function converts text input to Braille.\")\n",
    "    braille_alpha = {\n",
    "        'a': [[1, 0], [0, 0], [0, 0]], 'b': [[1, 0], [1, 0], [0, 0]], 'c': [[1, 1], [0, 0], [0, 0]], 'd': [[1, 1], [0, 1], [0, 0]],\n",
    "        'e': [[1, 0], [0, 1], [0, 0]], 'f': [[1, 1], [1, 0], [0, 0]], 'g': [[1, 1], [1, 1], [0, 0]], 'h': [[1, 0], [1, 1], [0, 0]],\n",
    "        'i': [[0, 1], [1, 0], [0, 0]], 'j': [[0, 1], [1, 1], [0, 0]], 'k': [[1, 0], [0, 0], [1, 0]], 'l': [[1, 0], [1, 0], [1, 0]],\n",
    "        'm': [[1, 1], [0, 0], [1, 0]], 'n': [[1, 1], [0, 1], [1, 0]], 'o': [[1, 0], [0, 1], [1, 0]], 'p': [[1, 1], [1, 0], [1, 0]],\n",
    "        'q': [[1, 1], [1, 1], [1, 0]], 'r': [[1, 0], [1, 1], [1, 0]], 's': [[0, 1], [1, 0], [1, 0]], 't': [[0, 1], [1, 1], [1, 0]],\n",
    "        'u': [[1, 0], [0, 0], [1, 1]], 'v': [[1, 0], [1, 0], [1, 1]], 'w': [[0, 1], [1, 1], [0, 1]], 'x': [[1, 1], [0, 0], [1, 1]],\n",
    "        'y': [[1, 1], [0, 1], [1, 1]], 'z': [[1, 0], [0, 1], [1, 1]]\n",
    "    }\n",
    "    braille_num = {\n",
    "        '1': [[1, 0], [0, 0], [0, 0]], '2': [[1, 0], [1, 0], [0, 0]], '3': [[1, 1], [0, 0], [0, 0]], '4': [[1, 1], [0, 1], [0, 0]],\n",
    "        '5': [[1, 0], [0, 1], [0, 0]], '6': [[1, 1], [1, 0], [0, 0]], '7': [[1, 1], [1, 1], [0, 0]], '8': [[1, 0], [1, 1], [0, 0]],\n",
    "        '9': [[0, 1], [1, 0], [0, 0]], '0': [[0, 1], [1, 1], [0, 0]], '#': [[0, 1], [0, 1], [1, 1]]\n",
    "    }\n",
    "    if ans in braille_num.keys():\n",
    "        ans=str(L)\n",
    "        print(braille_num[ans])\n",
    "    else:\n",
    "        print(braille_alpha[ans])\n"
   ]
  },
  {
   "cell_type": "code",
   "execution_count": 135,
   "metadata": {},
   "outputs": [],
   "source": [
    "def ai_output():\n",
    "    print(\"This function outputs the text of the scanned image.\")\n",
    "    print(\"Current working directory:\", os.getcwd())\n",
    "    # Load the model\n",
    "    try:\n",
    "        model = tf.keras.models.load_model(\"d:\\\\PROGRAMMING WORK\\\\Tactilite_Innovators\\\\Digit_classifier\\\\full_model.h5\")\n",
    "    except Exception as e:\n",
    "        print(f\"Error loading model: {e}\")\n",
    "        return\n",
    "    print(\"model loaded\")\n",
    "    image_number = 1\n",
    "    while os.path.isfile(f\"d:\\\\PROGRAMMING WORK\\\\Tactilite_Innovators\\\\input\\\\digit{image_number}.png\"):\n",
    "            img = cv2.imread(f\"d:\\\\PROGRAMMING WORK\\\\Tactilite_Innovators\\\\input\\\\digit{image_number}.png\")[:,:,0]\n",
    "            img = np.invert(np.array([img]))  # Invert colors for better processing\n",
    "            prediction = model.predict(img)\n",
    "            print(f\"The digit is probably a {np.argmax(prediction)}\")\n",
    "\n",
    "            # Display the image\n",
    "            plt.imshow(img[0], cmap=plt.cm.binary)\n",
    "            plt.show()       \n",
    "            \n",
    "            image_number += 1\n",
    "            b_converter(np.argmax(prediction))"
   ]
  },
  {
   "cell_type": "code",
   "execution_count": 136,
   "metadata": {},
   "outputs": [
    {
     "name": "stdout",
     "output_type": "stream",
     "text": [
      "This function outputs the text of the scanned image.\n",
      "Current working directory: d:\\PROGRAMMING WORK\\Tactilite_Innovators\n"
     ]
    },
    {
     "name": "stderr",
     "output_type": "stream",
     "text": [
      "WARNING:absl:Compiled the loaded model, but the compiled metrics have yet to be built. `model.compile_metrics` will be empty until you train or evaluate the model.\n"
     ]
    },
    {
     "name": "stdout",
     "output_type": "stream",
     "text": [
      "model loaded\n",
      "\u001b[1m1/1\u001b[0m \u001b[32m━━━━━━━━━━━━━━━━━━━━\u001b[0m\u001b[37m\u001b[0m \u001b[1m0s\u001b[0m 271ms/step\n",
      "The digit is probably a 25\n"
     ]
    },
    {
     "data": {
      "image/png": "[encoded data removed]",
      "text/plain": [
       "<Figure size 640x480 with 1 Axes>"
      ]
     },
     "metadata": {},
     "output_type": "display_data"
    },
    {
     "name": "stdout",
     "output_type": "stream",
     "text": [
      "This function converts text input to Braille.\n"
     ]
    },
    {
     "ename": "KeyError",
     "evalue": "'25'",
     "output_type": "error",
     "traceback": [
      "\u001b[1;31m---------------------------------------------------------------------------\u001b[0m",
      "\u001b[1;31mKeyError\u001b[0m                                  Traceback (most recent call last)",
      "Cell \u001b[1;32mIn[136], line 2\u001b[0m\n\u001b[0;32m      1\u001b[0m \u001b[38;5;66;03m# Run the ai_output function\u001b[39;00m\n\u001b[1;32m----> 2\u001b[0m \u001b[43mai_output\u001b[49m\u001b[43m(\u001b[49m\u001b[43m)\u001b[49m\n",
      "Cell \u001b[1;32mIn[135], line 23\u001b[0m, in \u001b[0;36mai_output\u001b[1;34m()\u001b[0m\n\u001b[0;32m     20\u001b[0m plt\u001b[38;5;241m.\u001b[39mshow()       \n\u001b[0;32m     22\u001b[0m image_number \u001b[38;5;241m+\u001b[39m\u001b[38;5;241m=\u001b[39m \u001b[38;5;241m1\u001b[39m\n\u001b[1;32m---> 23\u001b[0m \u001b[43mb_converter\u001b[49m\u001b[43m(\u001b[49m\u001b[43mnp\u001b[49m\u001b[38;5;241;43m.\u001b[39;49m\u001b[43margmax\u001b[49m\u001b[43m(\u001b[49m\u001b[43mprediction\u001b[49m\u001b[43m)\u001b[49m\u001b[43m)\u001b[49m\n",
      "Cell \u001b[1;32mIn[131], line 21\u001b[0m, in \u001b[0;36mb_converter\u001b[1;34m(L)\u001b[0m\n\u001b[0;32m     19\u001b[0m     \u001b[38;5;28mprint\u001b[39m(braille_num[ans])\n\u001b[0;32m     20\u001b[0m \u001b[38;5;28;01melse\u001b[39;00m:\n\u001b[1;32m---> 21\u001b[0m     \u001b[38;5;28mprint\u001b[39m(\u001b[43mbraille_alpha\u001b[49m\u001b[43m[\u001b[49m\u001b[43mans\u001b[49m\u001b[43m]\u001b[49m)\n",
      "\u001b[1;31mKeyError\u001b[0m: '25'"
     ]
    }
   ],
   "source": [
    "# Run the ai_output function\n",
    "ai_output()"
   ]
  },
  {
   "cell_type": "code",
   "execution_count": null,
   "metadata": {},
   "outputs": [],
   "source": []
  }
 ],
 "metadata": {
  "kernelspec": {
   "display_name": "base",
   "language": "python",
   "name": "python3"
  },
  "language_info": {
   "codemirror_mode": {
    "name": "ipython",
    "version": 3
   },
   "file_extension": ".py",
   "mimetype": "text/x-python",
   "name": "python",
   "nbconvert_exporter": "python",
   "pygments_lexer": "ipython3",
   "version": "3.12.4"
  }
 },
 "nbformat": 4,
 "nbformat_minor": 2
}
